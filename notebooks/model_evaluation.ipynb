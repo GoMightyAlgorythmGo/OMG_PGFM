{
 "cells": [
  {
   "cell_type": "code",
   "execution_count": 4,
   "id": "1213e2fb",
   "metadata": {},
   "outputs": [
    {
     "name": "stdout",
     "output_type": "stream",
     "text": [
      "Accuracy: 0.5359223300970873\n"
     ]
    }
   ],
   "source": [
    "import pandas as pd\n",
    "from sklearn.metrics import accuracy_score\n",
    "import pickle\n",
    "import numpy as np\n",
    "\n",
    "# Load features\n",
    "X_test = pd.read_csv('../data/features.csv').values\n",
    "\n",
    "# Define a sample target variable (binary classification example)\n",
    "# In a real scenario, you should load your actual target variable\n",
    "# Here, we will generate a dummy target variable for demonstration\n",
    "y_test = np.random.randint(0, 2, size=X_test.shape[0])\n",
    "\n",
    "# Load model\n",
    "with open('../models/logistic_model.pkl', 'rb') as f:\n",
    "    model = pickle.load(f)\n",
    "\n",
    "# Predict on test data\n",
    "y_pred = model.predict(X_test)\n",
    "\n",
    "# Evaluate model\n",
    "accuracy = accuracy_score(y_test, y_pred)\n",
    "print(f'Accuracy: {accuracy}')\n"
   ]
  },
  {
   "cell_type": "code",
   "execution_count": null,
   "id": "437485f9",
   "metadata": {},
   "outputs": [],
   "source": []
  }
 ],
 "metadata": {
  "kernelspec": {
   "display_name": "Python 3 (myenv)",
   "language": "python",
   "name": "myenv"
  },
  "language_info": {
   "codemirror_mode": {
    "name": "ipython",
    "version": 3
   },
   "file_extension": ".py",
   "mimetype": "text/x-python",
   "name": "python",
   "nbconvert_exporter": "python",
   "pygments_lexer": "ipython3",
   "version": "3.9.13"
  }
 },
 "nbformat": 4,
 "nbformat_minor": 5
}
