{
 "cells": [
  {
   "cell_type": "code",
   "execution_count": 11,
   "id": "a86d25b6-b3c9-4cc1-a58e-723639597236",
   "metadata": {},
   "outputs": [
    {
     "name": "stdout",
     "output_type": "stream",
     "text": [
      "Processing file: ../data\\activitys_12_3_24.txt\n",
      "First few lines of activitys_12_3_24.txt: ['[24.02.24, 08:59:25] Marco Luca Hefti: CodingProject\\n', '[24.02.24, 09:41:32] Marco Luca Hefti: end\\n', '[24.02.24, 09:41:51] Marco Luca Hefti: codingproject\\n', '[24.02.24, 10:07:52] Marco Luca Hefti: end\\n', '[24.02.24, 10:08:12] Marco Luca Hefti: meditation\\n']\n",
      "Processing file: ../data\\ProtocollChat2_15_5_24.txt\n",
      "First few lines of ProtocollChat2_15_5_24.txt: ['[15.08.2023, 17:01:44] Marco Protokoll Chat 2: \\u200eMessages and calls are end-to-end encrypted. No one outside of this chat, not even WhatsApp, can read or listen to them.\\n', '[15.08.2023, 17:01:44] Marco Protokoll Chat 2: \\u200eYou created group “Marco Protokoll Chat 2”\\n', '[15.08.2023, 17:01:53] Mami: \\u200eYou removed Mami\\n', '[15.08.2023, 17:02:29] Marco Luca Hefti: Vor 1-3 stunden in Der der Stadt um den Wasserhahnen zu reparieren.(bzw nachzufragen wegen Sieb)\\n', '[16.08.2023, 10:29:01] Marco Luca Hefti: Sleept ok. Slow start. Still thinking a bunch in between but still motivation altho a bit slow there to do \"chores\".\\n']\n",
      "Processing file: ../data\\scores_10_3_24_.txt\n",
      "First few lines of scores_10_3_24_.txt: ['[24.02.24, 09:39:57] Marco Luca Hefti: F5 P4 T4 E5\\n', '[24.02.24, 11:01:12] Marco Luca Hefti: F5 P3 T3 E6\\n', '[24.02.24, 12:54:32] Marco Luca Hefti: F5 P5 T5 E5\\n', '[24.02.24, 13:55:46] Marco Luca Hefti: F4 P5 T4 E5\\n', '[24.02.24, 15:18:54] Marco Luca Hefti: F5 P6 T5 E6\\n']\n",
      "Preprocessing complete. Check '../data/preprocessed_chat.csv'\n"
     ]
    }
   ],
   "source": [
    "import pandas as pd\n",
    "import re\n",
    "import os\n",
    "\n",
    "def preprocess_whatsapp_chats(directory_path):\n",
    "    all_data = []\n",
    "    \n",
    "    for filename in os.listdir(directory_path):\n",
    "        if filename.endswith(\".txt\"):\n",
    "            file_path = os.path.join(directory_path, filename)\n",
    "            print(f\"Processing file: {file_path}\")  # Debugging print\n",
    "            with open(file_path, 'r', encoding='utf-8') as file:\n",
    "                lines = file.readlines()\n",
    "                print(f\"First few lines of {filename}: {lines[:5]}\")  # Debugging print\n",
    "            \n",
    "            for line in lines:\n",
    "                match = re.match(r'^\\[(\\d{2}\\.\\d{2}\\.\\d{2}), (\\d{2}:\\d{2}:\\d{2})\\] (.+?): (.+)', line)\n",
    "                if match:\n",
    "                    date, time, author, text = match.groups()\n",
    "                    all_data.append([date, time, author, text.strip()])\n",
    "    \n",
    "    df = pd.DataFrame(all_data, columns=['Date', 'Time', 'Author', 'Message'])\n",
    "    return df\n",
    "\n",
    "# Example usage\n",
    "df = preprocess_whatsapp_chats('../data')\n",
    "df.to_csv('../data/preprocessed_chat.csv', index=False)\n",
    "print(\"Preprocessing complete. Check '../data/preprocessed_chat.csv'\")\n"
   ]
  },
  {
   "cell_type": "code",
   "execution_count": null,
   "id": "74d50ae4",
   "metadata": {},
   "outputs": [],
   "source": []
  },
  {
   "cell_type": "code",
   "execution_count": 8,
   "id": "85b9839a",
   "metadata": {},
   "outputs": [
    {
     "name": "stderr",
     "output_type": "stream",
     "text": [
      "'ls' is not recognized as an internal or external command,\n",
      "operable program or batch file.\n"
     ]
    }
   ],
   "source": [
    "!ls ../data"
   ]
  },
  {
   "cell_type": "code",
   "execution_count": null,
   "id": "9614d50b",
   "metadata": {},
   "outputs": [],
   "source": []
  }
 ],
 "metadata": {
  "kernelspec": {
   "display_name": "Python 3 (ipykernel)",
   "language": "python",
   "name": "python3"
  },
  "language_info": {
   "codemirror_mode": {
    "name": "ipython",
    "version": 3
   },
   "file_extension": ".py",
   "mimetype": "text/x-python",
   "name": "python",
   "nbconvert_exporter": "python",
   "pygments_lexer": "ipython3",
   "version": "3.9.13"
  }
 },
 "nbformat": 4,
 "nbformat_minor": 5
}
