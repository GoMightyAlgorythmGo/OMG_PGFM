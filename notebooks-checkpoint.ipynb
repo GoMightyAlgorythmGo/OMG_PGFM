{
 "cells": [
  {
   "cell_type": "code",
   "execution_count": null,
   "id": "a86d25b6-b3c9-4cc1-a58e-723639597236",
   "metadata": {},
   "outputs": [],
   "source": [
    "import pandas as pd\n",
    "import re\n",
    "\n",
    "def preprocess_whatsapp_chat(file_path):\n",
    "    with open(file_path, 'r', encoding='utf-8') as file:\n",
    "        lines = file.readlines()\n",
    "    \n",
    "    data = []\n",
    "    for line in lines:\n",
    "        if \" - \" in line:\n",
    "            date_time, message = line.split(' - ', 1)\n",
    "            if \": \" in message:\n",
    "                date, time = date_time.split(', ')\n",
    "                author, text = message.split(\": \", 1)\n",
    "                data.append([date, time, author, text.strip()])\n",
    "    \n",
    "    df = pd.DataFrame(data, columns=['Date', 'Time', 'Author', 'Message'])\n",
    "    return df\n",
    "\n",
    "# Example usage\n",
    "df = preprocess_whatsapp_chat('../data/_chat.txt')\n",
    "df.to_csv('../data/preprocessed_chat.csv', index=False)\n"
   ]
  },
  {
   "cell_type": "code",
   "execution_count": null,
   "id": "50aeb347",
   "metadata": {},
   "outputs": [],
   "source": []
  }
 ],
 "metadata": {
  "kernelspec": {
   "display_name": "",
   "name": ""
  },
  "language_info": {
   "name": ""
  }
 },
 "nbformat": 4,
 "nbformat_minor": 5
}
